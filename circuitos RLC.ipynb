{
 "cells": [
  {
   "cell_type": "markdown",
   "id": "0184bf73",
   "metadata": {},
   "source": [
    "# Circuitos RLC \n",
    "\n",
    "https://www.youtube.com/watch?v=VkEnKcwp_N0&list=PL1IAWKHSkvMGbkq-CkhIhtbgBpI5nQ8fo"
   ]
  },
  {
   "cell_type": "markdown",
   "id": "cbb5b721",
   "metadata": {},
   "source": [
    "## Bibliotecas e demais parâmetros"
   ]
  },
  {
   "cell_type": "code",
   "execution_count": 128,
   "id": "0217e153",
   "metadata": {},
   "outputs": [
    {
     "data": {
      "text/plain": [
       "'%.3f'"
      ]
     },
     "execution_count": 128,
     "metadata": {},
     "output_type": "execute_result"
    }
   ],
   "source": [
    "import math\n",
    "# define três casas decimais de precisão\n",
    "%precision %.3f"
   ]
  },
  {
   "cell_type": "markdown",
   "id": "3d6489f0",
   "metadata": {},
   "source": [
    "## Como calcular Impedância\n",
    "https://www.youtube.com/watch?v=pDUCh0QlJag&list=PL1IAWKHSkvMGbkq-CkhIhtbgBpI5nQ8fo&index=2"
   ]
  },
  {
   "cell_type": "markdown",
   "id": "27e11813",
   "metadata": {},
   "source": [
    "* Z1, Z2 ,Z3 impedâncias\n",
    "* XL reatância indutiva\n",
    "* XC reatância capacitiva"
   ]
  },
  {
   "cell_type": "markdown",
   "id": "c520b968",
   "metadata": {},
   "source": [
    "### Variáveis do circuito"
   ]
  },
  {
   "cell_type": "code",
   "execution_count": 129,
   "id": "a320ea3f",
   "metadata": {},
   "outputs": [],
   "source": [
    "vca = 100 # Volts em 0 graus\n",
    "f = 60 # hertz\n",
    "\n",
    "parametros_z1 = {\n",
    "    \"R\" : 100,       # ohms\n",
    "    \"L\" : 1*10**-3,  # mH\n",
    "    \"C\" : 10*10**-6,  # microF\n",
    "}\n",
    "\n",
    "parametros_z2 = {\n",
    "    \"R\" : 200,       # ohms\n",
    "    \"L\" : 2*10**-3,  # mH\n",
    "    \"C\" : 20*10**-6,  # microF\n",
    "}\n",
    "\n",
    "parametros_z3 = {\n",
    "    \"R\" : 300,       # ohms\n",
    "    \"L\" : 3*10**-3,  # mH\n",
    "    \"C\" : 30*10**-6,  # microF\n",
    "}\n",
    "\n",
    "lista_parametros = []"
   ]
  },
  {
   "cell_type": "code",
   "execution_count": 130,
   "id": "fd1b8293",
   "metadata": {},
   "outputs": [
    {
     "data": {
      "text/plain": [
       "[{'R': 100, 'L': 0.001, 'C': 0.000},\n",
       " {'R': 200, 'L': 0.002, 'C': 0.000},\n",
       " {'R': 300, 'L': 0.003, 'C': 0.000}]"
      ]
     },
     "execution_count": 130,
     "metadata": {},
     "output_type": "execute_result"
    }
   ],
   "source": [
    "lista_parametros.append(parametros_z1)\n",
    "lista_parametros.append(parametros_z2)\n",
    "lista_parametros.append(parametros_z3)\n",
    "\n",
    "lista_parametros"
   ]
  },
  {
   "cell_type": "markdown",
   "id": "c1a8c025",
   "metadata": {},
   "source": [
    "### Encontrando as reatâncias "
   ]
  },
  {
   "cell_type": "code",
   "execution_count": 131,
   "id": "8df17a45",
   "metadata": {},
   "outputs": [],
   "source": [
    "def reatanciaIndutiva(param, freq):\n",
    "    return 2*math.pi*freq*param[\"L\"]"
   ]
  },
  {
   "cell_type": "code",
   "execution_count": 132,
   "id": "f8936234",
   "metadata": {},
   "outputs": [],
   "source": [
    "def reatanciaCapacitiva(param, freq):\n",
    "    return 1/(2*math.pi*freq*param[\"C\"])"
   ]
  },
  {
   "cell_type": "code",
   "execution_count": 133,
   "id": "87bbefd3",
   "metadata": {},
   "outputs": [],
   "source": [
    "for p in lista_parametros:\n",
    "    p[\"XL\"] = reatanciaIndutiva(p, f)\n",
    "    p[\"XC\"] = reatanciaCapacitiva(p, f)"
   ]
  },
  {
   "cell_type": "code",
   "execution_count": 134,
   "id": "9f1fd17c",
   "metadata": {},
   "outputs": [
    {
     "data": {
      "text/plain": [
       "[{'R': 100, 'L': 0.001, 'C': 0.000, 'XL': 0.377, 'XC': 265.258},\n",
       " {'R': 200, 'L': 0.002, 'C': 0.000, 'XL': 0.754, 'XC': 132.629},\n",
       " {'R': 300, 'L': 0.003, 'C': 0.000, 'XL': 1.131, 'XC': 88.419}]"
      ]
     },
     "execution_count": 134,
     "metadata": {},
     "output_type": "execute_result"
    }
   ],
   "source": [
    "lista_parametros"
   ]
  },
  {
   "cell_type": "markdown",
   "id": "4371fa58",
   "metadata": {},
   "source": [
    "### Calculando as impedâncias"
   ]
  },
  {
   "cell_type": "code",
   "execution_count": 135,
   "id": "a2bcf974",
   "metadata": {},
   "outputs": [],
   "source": [
    "def impedanciaZ(param):\n",
    "    if param[\"XL\"] > param[\"XC\"]:\n",
    "        xeq = param[\"XL\"] - param[\"XC\"]\n",
    "    else:\n",
    "        xeq = (param[\"XC\"] - param[\"XL\"]) * -1\n",
    "    \n",
    "    return math.sqrt(xeq**2 + param[\"R\"]**2), xeq\n"
   ]
  },
  {
   "cell_type": "code",
   "execution_count": 136,
   "id": "47f7081f",
   "metadata": {},
   "outputs": [],
   "source": [
    "for p in lista_parametros:\n",
    "    p[\"Z\"], p[\"Xeq\"] = impedanciaZ(p)"
   ]
  },
  {
   "cell_type": "code",
   "execution_count": 137,
   "id": "f5d41dfe",
   "metadata": {},
   "outputs": [
    {
     "data": {
      "text/plain": [
       "[{'R': 100,\n",
       "  'L': 0.001,\n",
       "  'C': 0.000,\n",
       "  'XL': 0.377,\n",
       "  'XC': 265.258,\n",
       "  'Z': 283.129,\n",
       "  'Xeq': -264.881},\n",
       " {'R': 200,\n",
       "  'L': 0.002,\n",
       "  'C': 0.000,\n",
       "  'XL': 0.754,\n",
       "  'XC': 132.629,\n",
       "  'Z': 239.564,\n",
       "  'Xeq': -131.875},\n",
       " {'R': 300,\n",
       "  'L': 0.003,\n",
       "  'C': 0.000,\n",
       "  'XL': 1.131,\n",
       "  'XC': 88.419,\n",
       "  'Z': 312.441,\n",
       "  'Xeq': -87.288}]"
      ]
     },
     "execution_count": 137,
     "metadata": {},
     "output_type": "execute_result"
    }
   ],
   "source": [
    "lista_parametros"
   ]
  },
  {
   "cell_type": "markdown",
   "id": "fa0c22fc",
   "metadata": {},
   "source": [
    "### Ângulo de defasagem \n",
    "https://www.youtube.com/watch?v=Ba3wPJ4PgEI&list=PL1IAWKHSkvMGbkq-CkhIhtbgBpI5nQ8fo&index=3"
   ]
  },
  {
   "cell_type": "code",
   "execution_count": 138,
   "id": "5b63d2f7",
   "metadata": {},
   "outputs": [],
   "source": [
    "def angulo(param):\n",
    "    return math.atan(param[\"Xeq\"]/param[\"R\"]) * 180/math.pi"
   ]
  },
  {
   "cell_type": "code",
   "execution_count": 139,
   "id": "7ea3d800",
   "metadata": {},
   "outputs": [],
   "source": [
    "for p in lista_parametros:\n",
    "    p[\"anguloDefasagem\"] = angulo(p)"
   ]
  },
  {
   "cell_type": "code",
   "execution_count": 140,
   "id": "d550fec3",
   "metadata": {},
   "outputs": [
    {
     "data": {
      "text/plain": [
       "[{'R': 100,\n",
       "  'L': 0.001,\n",
       "  'C': 0.000,\n",
       "  'XL': 0.377,\n",
       "  'XC': 265.258,\n",
       "  'Z': 283.129,\n",
       "  'Xeq': -264.881,\n",
       "  'anguloDefasagem': -69.317},\n",
       " {'R': 200,\n",
       "  'L': 0.002,\n",
       "  'C': 0.000,\n",
       "  'XL': 0.754,\n",
       "  'XC': 132.629,\n",
       "  'Z': 239.564,\n",
       "  'Xeq': -131.875,\n",
       "  'anguloDefasagem': -33.400},\n",
       " {'R': 300,\n",
       "  'L': 0.003,\n",
       "  'C': 0.000,\n",
       "  'XL': 1.131,\n",
       "  'XC': 88.419,\n",
       "  'Z': 312.441,\n",
       "  'Xeq': -87.288,\n",
       "  'anguloDefasagem': -16.223}]"
      ]
     },
     "execution_count": 140,
     "metadata": {},
     "output_type": "execute_result"
    }
   ],
   "source": [
    "lista_parametros"
   ]
  },
  {
   "cell_type": "markdown",
   "id": "7e91cd27",
   "metadata": {},
   "source": [
    "### Exercício1"
   ]
  },
  {
   "cell_type": "code",
   "execution_count": 141,
   "id": "4afd88a0",
   "metadata": {},
   "outputs": [],
   "source": [
    "vca = 200 # Volts em 0 graus\n",
    "f = 60 # hertz\n",
    "\n",
    "parametros_z1 = {\n",
    "    \"R\" : 100,       # ohms\n",
    "    \"L\" : 10*10**-3,  # mH\n",
    "    \"C\" : 100*10**-6,  # microF\n",
    "}\n",
    "\n",
    "parametros_z2 = {\n",
    "    \"R\" : 150,       # ohms\n",
    "    \"L\" : 20*10**-3,  # mH\n",
    "    \"C\" : 200*10**-6,  # microF\n",
    "}\n",
    "\n",
    "parametros_z3 = {\n",
    "    \"R\" : 200,       # ohms\n",
    "    \"L\" : 30*10**-3,  # mH\n",
    "    \"C\" : 150*10**-6,  # microF\n",
    "}\n",
    "\n",
    "lista_exercicio1 = []"
   ]
  },
  {
   "cell_type": "code",
   "execution_count": 142,
   "id": "320f2da4",
   "metadata": {},
   "outputs": [
    {
     "data": {
      "text/plain": [
       "[{'R': 100, 'L': 0.010, 'C': 0.000},\n",
       " {'R': 150, 'L': 0.020, 'C': 0.000},\n",
       " {'R': 200, 'L': 0.030, 'C': 0.000}]"
      ]
     },
     "execution_count": 142,
     "metadata": {},
     "output_type": "execute_result"
    }
   ],
   "source": [
    "lista_exercicio1.append(parametros_z1)\n",
    "lista_exercicio1.append(parametros_z2)\n",
    "lista_exercicio1.append(parametros_z3)\n",
    "lista_exercicio1"
   ]
  },
  {
   "cell_type": "code",
   "execution_count": 143,
   "id": "d5809368",
   "metadata": {},
   "outputs": [],
   "source": [
    "for p in lista_exercicio1:\n",
    "    p[\"XL\"] = reatanciaIndutiva(p, f)\n",
    "    p[\"XC\"] = reatanciaCapacitiva(p, f)\n",
    "    p[\"Z\"], p[\"Xeq\"] = impedanciaZ(p)\n",
    "    p[\"anguloDefasagem\"] = angulo(p)"
   ]
  },
  {
   "cell_type": "code",
   "execution_count": 144,
   "id": "78fdf12c",
   "metadata": {},
   "outputs": [
    {
     "data": {
      "text/plain": [
       "[{'R': 100,\n",
       "  'L': 0.010,\n",
       "  'C': 0.000,\n",
       "  'XL': 3.770,\n",
       "  'XC': 26.526,\n",
       "  'Z': 102.556,\n",
       "  'Xeq': -22.756,\n",
       "  'anguloDefasagem': -12.820},\n",
       " {'R': 150,\n",
       "  'L': 0.020,\n",
       "  'C': 0.000,\n",
       "  'XL': 7.540,\n",
       "  'XC': 13.263,\n",
       "  'Z': 150.109,\n",
       "  'Xeq': -5.723,\n",
       "  'anguloDefasagem': -2.185},\n",
       " {'R': 200,\n",
       "  'L': 0.030,\n",
       "  'C': 0.000,\n",
       "  'XL': 11.310,\n",
       "  'XC': 17.684,\n",
       "  'Z': 200.102,\n",
       "  'Xeq': -6.374,\n",
       "  'anguloDefasagem': -1.825}]"
      ]
     },
     "execution_count": 144,
     "metadata": {},
     "output_type": "execute_result"
    }
   ],
   "source": [
    "lista_exercicio1"
   ]
  },
  {
   "cell_type": "markdown",
   "id": "1128b1cc",
   "metadata": {},
   "source": [
    "## Polar em retangular \n",
    "**Resistências em série com diferentes ângulos de defasagem**\n",
    "\n",
    "https://www.youtube.com/watch?v=quTc1YXdfqs&list=PL1IAWKHSkvMGbkq-CkhIhtbgBpI5nQ8fo&index=4"
   ]
  },
  {
   "cell_type": "code",
   "execution_count": 145,
   "id": "229758e1",
   "metadata": {},
   "outputs": [],
   "source": [
    "def componenteReal(angulo, resistencia):\n",
    "    return math.cos(angulo*math.pi/180)*resistencia\n",
    "    \n",
    "def componenteImaginario(angulo, resistencia):\n",
    "    return math.sin(angulo*math.pi/180)*resistencia"
   ]
  },
  {
   "cell_type": "code",
   "execution_count": 146,
   "id": "6e452492",
   "metadata": {},
   "outputs": [],
   "source": [
    "Zx = componenteReal(60, 100) + componenteReal(-30, 50) + componenteReal(0, 200)"
   ]
  },
  {
   "cell_type": "code",
   "execution_count": 147,
   "id": "50b44873",
   "metadata": {},
   "outputs": [],
   "source": [
    "Zy = componenteImaginario(60, 100) + componenteImaginario(-30, 50) + componenteImaginario(0, 200)"
   ]
  },
  {
   "cell_type": "code",
   "execution_count": 148,
   "id": "c6b53b5d",
   "metadata": {},
   "outputs": [
    {
     "data": {
      "text/plain": [
       "(293.301, 61.603)"
      ]
     },
     "execution_count": 148,
     "metadata": {},
     "output_type": "execute_result"
    }
   ],
   "source": [
    "Zx, Zy"
   ]
  },
  {
   "cell_type": "markdown",
   "id": "2a5b6677",
   "metadata": {},
   "source": [
    "## Retangular em polar\n",
    "https://www.youtube.com/watch?v=3m8z7Z1sp04&list=PL1IAWKHSkvMGbkq-CkhIhtbgBpI5nQ8fo&index=5"
   ]
  },
  {
   "cell_type": "code",
   "execution_count": 149,
   "id": "3f090864",
   "metadata": {},
   "outputs": [],
   "source": [
    "def resultante(componenteReal, componenteImaginario):\n",
    "    return math.sqrt(componenteImaginario**2 + componenteReal**2) \n",
    "\n",
    "def angulo(componenteReal, componenteImaginario):\n",
    "    return math.atan(componenteImaginario/componenteReal) * 180 / math.pi\n",
    "\n",
    "def impedanciaEquivalente(componenteReal, componenteImaginario):\n",
    "    imp = resultante(componenteReal, componenteImaginario)\n",
    "    ang = angulo(componenteReal, componenteImaginario)\n",
    "    return (imp, ang)"
   ]
  },
  {
   "cell_type": "code",
   "execution_count": 150,
   "id": "1845fdf1",
   "metadata": {},
   "outputs": [
    {
     "data": {
      "text/plain": [
       "(99.998, 59.999)"
      ]
     },
     "execution_count": 150,
     "metadata": {},
     "output_type": "execute_result"
    }
   ],
   "source": [
    "impedanciaEquivalente(50, 86.6)"
   ]
  },
  {
   "cell_type": "code",
   "execution_count": 151,
   "id": "25d501c5",
   "metadata": {},
   "outputs": [
    {
     "data": {
      "text/plain": [
       "(49.999, -30.001)"
      ]
     },
     "execution_count": 151,
     "metadata": {},
     "output_type": "execute_result"
    }
   ],
   "source": [
    "impedanciaEquivalente(43.3, -25)"
   ]
  },
  {
   "cell_type": "code",
   "execution_count": 152,
   "id": "1c738a47",
   "metadata": {},
   "outputs": [
    {
     "data": {
      "text/plain": [
       "(200.000, 0.000)"
      ]
     },
     "execution_count": 152,
     "metadata": {},
     "output_type": "execute_result"
    }
   ],
   "source": [
    "impedanciaEquivalente(200, 0)"
   ]
  },
  {
   "cell_type": "code",
   "execution_count": 153,
   "id": "5e74ecb4",
   "metadata": {},
   "outputs": [
    {
     "data": {
      "text/plain": [
       "(299.701, 11.862)"
      ]
     },
     "execution_count": 153,
     "metadata": {},
     "output_type": "execute_result"
    }
   ],
   "source": [
    "Zeq = impedanciaEquivalente(Zx, Zy)\n",
    "Zeq"
   ]
  },
  {
   "cell_type": "markdown",
   "id": "d2e6a564",
   "metadata": {},
   "source": [
    "### Impedância total do circuito\n",
    "\n",
    "Levando em consideração os angulos de defasagem\n",
    "\n",
    "https://www.youtube.com/watch?v=VgVplBPdPXA&list=PL1IAWKHSkvMGbkq-CkhIhtbgBpI5nQ8fo&index=6"
   ]
  },
  {
   "cell_type": "code",
   "execution_count": 154,
   "id": "a1e33cc6",
   "metadata": {},
   "outputs": [
    {
     "data": {
      "text/plain": [
       "[{'R': 100,\n",
       "  'L': 0.001,\n",
       "  'C': 0.000,\n",
       "  'XL': 0.377,\n",
       "  'XC': 265.258,\n",
       "  'Z': 283.129,\n",
       "  'Xeq': -264.881,\n",
       "  'anguloDefasagem': -69.317},\n",
       " {'R': 200,\n",
       "  'L': 0.002,\n",
       "  'C': 0.000,\n",
       "  'XL': 0.754,\n",
       "  'XC': 132.629,\n",
       "  'Z': 239.564,\n",
       "  'Xeq': -131.875,\n",
       "  'anguloDefasagem': -33.400},\n",
       " {'R': 300,\n",
       "  'L': 0.003,\n",
       "  'C': 0.000,\n",
       "  'XL': 1.131,\n",
       "  'XC': 88.419,\n",
       "  'Z': 312.441,\n",
       "  'Xeq': -87.288,\n",
       "  'anguloDefasagem': -16.223}]"
      ]
     },
     "execution_count": 154,
     "metadata": {},
     "output_type": "execute_result"
    }
   ],
   "source": [
    "lista_parametros"
   ]
  },
  {
   "cell_type": "code",
   "execution_count": 155,
   "id": "bf509362",
   "metadata": {},
   "outputs": [],
   "source": [
    "def impedanciaTotal(list_p):\n",
    "    Zx = 0.0\n",
    "    Zy = 0.0\n",
    "    for p in list_p:\n",
    "        angulo = 0 - p[\"anguloDefasagem\"]\n",
    "        Zx += (1/p[\"Z\"])*math.cos(angulo*math.pi/180)\n",
    "        Zy += (1/p[\"Z\"])*math.sin(angulo*math.pi/180)\n",
    "    Zeq = 1/math.sqrt(Zx**2 + Zy**2)\n",
    "    anguloZeq = 0 - math.atan(Zy/Zx)*180/math.pi\n",
    "    return Zeq, anguloZeq"
   ]
  },
  {
   "cell_type": "code",
   "execution_count": 156,
   "id": "370aa9e7",
   "metadata": {},
   "outputs": [
    {
     "name": "stdout",
     "output_type": "stream",
     "text": [
      "A impedâncial total do circuito é 98.472 com angulo de defasagem de -39.770 graus\n"
     ]
    }
   ],
   "source": [
    "impTotal = impedanciaTotal(lista_parametros)\n",
    "\n",
    "print(\"A impedâncial total do circuito é {0:0.3f} com angulo de defasagem de {1:0.3f} graus\".format(impTotal[0], impTotal[1]))"
   ]
  },
  {
   "cell_type": "markdown",
   "id": "47e8031e",
   "metadata": {},
   "source": [
    "### Voltando ao exercicio1"
   ]
  },
  {
   "cell_type": "code",
   "execution_count": 157,
   "id": "283ae9bd",
   "metadata": {},
   "outputs": [
    {
     "data": {
      "text/plain": [
       "[{'R': 100,\n",
       "  'L': 0.010,\n",
       "  'C': 0.000,\n",
       "  'XL': 3.770,\n",
       "  'XC': 26.526,\n",
       "  'Z': 102.556,\n",
       "  'Xeq': -22.756,\n",
       "  'anguloDefasagem': -12.820},\n",
       " {'R': 150,\n",
       "  'L': 0.020,\n",
       "  'C': 0.000,\n",
       "  'XL': 7.540,\n",
       "  'XC': 13.263,\n",
       "  'Z': 150.109,\n",
       "  'Xeq': -5.723,\n",
       "  'anguloDefasagem': -2.185},\n",
       " {'R': 200,\n",
       "  'L': 0.030,\n",
       "  'C': 0.000,\n",
       "  'XL': 11.310,\n",
       "  'XC': 17.684,\n",
       "  'Z': 200.102,\n",
       "  'Xeq': -6.374,\n",
       "  'anguloDefasagem': -1.825}]"
      ]
     },
     "execution_count": 157,
     "metadata": {},
     "output_type": "execute_result"
    }
   ],
   "source": [
    "lista_exercicio1"
   ]
  },
  {
   "cell_type": "code",
   "execution_count": 158,
   "id": "4bd86cdc",
   "metadata": {},
   "outputs": [
    {
     "name": "stdout",
     "output_type": "stream",
     "text": [
      "A impedâncial total do circuito é 46.913 com angulo de defasagem de -6.943 graus\n"
     ]
    }
   ],
   "source": [
    "impTotalExercicio = impedanciaTotal(lista_exercicio1)\n",
    "\n",
    "print(\"A impedâncial total do circuito é {0:0.3f} com angulo de defasagem de {1:0.3f} graus\".format(impTotalExercicio[0], impTotalExercicio[1]))"
   ]
  },
  {
   "cell_type": "markdown",
   "id": "634ca3e8",
   "metadata": {},
   "source": [
    "## Calculo de corrente\n",
    "https://www.youtube.com/watch?v=A4K4dYaq4rA&list=PL1IAWKHSkvMGbkq-CkhIhtbgBpI5nQ8fo&index=8\n",
    "\n",
    "I = VCA / Impedância total"
   ]
  },
  {
   "cell_type": "code",
   "execution_count": 159,
   "id": "eb00d35b",
   "metadata": {},
   "outputs": [
    {
     "name": "stdout",
     "output_type": "stream",
     "text": [
      "A corrente total do circuito é 1.016 Ampere com angulo de defasagem de 39.770 graus\n"
     ]
    }
   ],
   "source": [
    "vca = 100 # em 0 graus\n",
    "CorrenteTotal = vca/impTotal[0]\n",
    "AnguloCorrenteTotal = 0 - impTotal[1]\n",
    "print(\"A corrente total do circuito é {0:0.3f} Ampere com angulo de defasagem de {1:0.3f} graus\".format(CorrenteTotal, AnguloCorrenteTotal))"
   ]
  },
  {
   "cell_type": "markdown",
   "id": "8e2a48ab",
   "metadata": {},
   "source": [
    "### Calculo das correntes I1, I2, I3"
   ]
  },
  {
   "cell_type": "code",
   "execution_count": 160,
   "id": "ec3a4661",
   "metadata": {},
   "outputs": [],
   "source": [
    "def calculoCorrentes(param, ddp):\n",
    "    for p in param:\n",
    "        p[\"I\"] = ddp/p[\"Z\"]\n",
    "        p[\"anguloI\"] = 0 - p[\"anguloDefasagem\"]"
   ]
  },
  {
   "cell_type": "code",
   "execution_count": 161,
   "id": "434c80e8",
   "metadata": {},
   "outputs": [],
   "source": [
    "calculoCorrentes(lista_parametros, vca)"
   ]
  },
  {
   "cell_type": "code",
   "execution_count": 162,
   "id": "76fc5bcc",
   "metadata": {},
   "outputs": [
    {
     "data": {
      "text/plain": [
       "[{'R': 100,\n",
       "  'L': 0.001,\n",
       "  'C': 0.000,\n",
       "  'XL': 0.377,\n",
       "  'XC': 265.258,\n",
       "  'Z': 283.129,\n",
       "  'Xeq': -264.881,\n",
       "  'anguloDefasagem': -69.317,\n",
       "  'I': 0.353,\n",
       "  'anguloI': 69.317},\n",
       " {'R': 200,\n",
       "  'L': 0.002,\n",
       "  'C': 0.000,\n",
       "  'XL': 0.754,\n",
       "  'XC': 132.629,\n",
       "  'Z': 239.564,\n",
       "  'Xeq': -131.875,\n",
       "  'anguloDefasagem': -33.400,\n",
       "  'I': 0.417,\n",
       "  'anguloI': 33.400},\n",
       " {'R': 300,\n",
       "  'L': 0.003,\n",
       "  'C': 0.000,\n",
       "  'XL': 1.131,\n",
       "  'XC': 88.419,\n",
       "  'Z': 312.441,\n",
       "  'Xeq': -87.288,\n",
       "  'anguloDefasagem': -16.223,\n",
       "  'I': 0.320,\n",
       "  'anguloI': 16.223}]"
      ]
     },
     "execution_count": 162,
     "metadata": {},
     "output_type": "execute_result"
    }
   ],
   "source": [
    "lista_parametros"
   ]
  },
  {
   "cell_type": "markdown",
   "id": "592e7893",
   "metadata": {},
   "source": [
    "### Prova real "
   ]
  },
  {
   "cell_type": "code",
   "execution_count": 163,
   "id": "d6dc2fb8",
   "metadata": {},
   "outputs": [],
   "source": [
    "def correnteResultante(param):\n",
    "    Ix = 0.0\n",
    "    Iy = 0.0\n",
    "    for p in param:\n",
    "        Ix += (p[\"I\"])*math.cos(p[\"anguloI\"]*math.pi/180)\n",
    "        Iy += (p[\"I\"])*math.sin(p[\"anguloI\"]*math.pi/180)\n",
    "    \n",
    "    return math.sqrt(Ix**2 + Iy**2)"
   ]
  },
  {
   "cell_type": "code",
   "execution_count": 164,
   "id": "eacf022a",
   "metadata": {},
   "outputs": [
    {
     "data": {
      "text/plain": [
       "1.016"
      ]
     },
     "execution_count": 164,
     "metadata": {},
     "output_type": "execute_result"
    }
   ],
   "source": [
    "correnteTotalResultante = correnteResultante(lista_parametros)\n",
    "correnteTotalResultante"
   ]
  },
  {
   "cell_type": "markdown",
   "id": "8027eb21",
   "metadata": {},
   "source": [
    "### Exercicio1"
   ]
  },
  {
   "cell_type": "code",
   "execution_count": 165,
   "id": "cdaca929",
   "metadata": {},
   "outputs": [
    {
     "name": "stdout",
     "output_type": "stream",
     "text": [
      "A corrente total do circuito é 4.263 Ampere com angulo de defasagem de 6.943 graus\n"
     ]
    }
   ],
   "source": [
    "vca_exercicio = 200 # Volts em 0 graus\n",
    "I_Total_Exercicio = vca_exercicio/impTotalExercicio[0]\n",
    "AnguloCorrenteTotal_Exercicio = 0 - impTotalExercicio[1]\n",
    "print(\"A corrente total do circuito é {0:0.3f} Ampere com angulo de defasagem de {1:0.3f} graus\".format(I_Total_Exercicio, AnguloCorrenteTotal_Exercicio))"
   ]
  },
  {
   "cell_type": "code",
   "execution_count": 166,
   "id": "df468acf",
   "metadata": {},
   "outputs": [],
   "source": [
    "calculoCorrentes(lista_exercicio1, vca_exercicio)"
   ]
  },
  {
   "cell_type": "code",
   "execution_count": 167,
   "id": "be517d26",
   "metadata": {},
   "outputs": [
    {
     "data": {
      "text/plain": [
       "[{'R': 100,\n",
       "  'L': 0.010,\n",
       "  'C': 0.000,\n",
       "  'XL': 3.770,\n",
       "  'XC': 26.526,\n",
       "  'Z': 102.556,\n",
       "  'Xeq': -22.756,\n",
       "  'anguloDefasagem': -12.820,\n",
       "  'I': 1.950,\n",
       "  'anguloI': 12.820},\n",
       " {'R': 150,\n",
       "  'L': 0.020,\n",
       "  'C': 0.000,\n",
       "  'XL': 7.540,\n",
       "  'XC': 13.263,\n",
       "  'Z': 150.109,\n",
       "  'Xeq': -5.723,\n",
       "  'anguloDefasagem': -2.185,\n",
       "  'I': 1.332,\n",
       "  'anguloI': 2.185},\n",
       " {'R': 200,\n",
       "  'L': 0.030,\n",
       "  'C': 0.000,\n",
       "  'XL': 11.310,\n",
       "  'XC': 17.684,\n",
       "  'Z': 200.102,\n",
       "  'Xeq': -6.374,\n",
       "  'anguloDefasagem': -1.825,\n",
       "  'I': 0.999,\n",
       "  'anguloI': 1.825}]"
      ]
     },
     "execution_count": 167,
     "metadata": {},
     "output_type": "execute_result"
    }
   ],
   "source": [
    "lista_exercicio1"
   ]
  },
  {
   "cell_type": "code",
   "execution_count": 168,
   "id": "1014306c",
   "metadata": {},
   "outputs": [
    {
     "data": {
      "text/plain": [
       "4.263"
      ]
     },
     "execution_count": 168,
     "metadata": {},
     "output_type": "execute_result"
    }
   ],
   "source": [
    "I_Total_prova = correnteResultante(lista_exercicio1)\n",
    "I_Total_prova"
   ]
  },
  {
   "cell_type": "markdown",
   "id": "f660ece2",
   "metadata": {},
   "source": [
    "## Potencias em CA\n",
    "https://www.youtube.com/watch?v=j6CLdOnpHL4&list=PL1IAWKHSkvMGbkq-CkhIhtbgBpI5nQ8fo&index=8\n",
    "\n",
    "* P = V * I [W] (em corrente contínua)\n",
    "\n",
    "\n",
    "* P    = V * I [V A], potência aparente total [S]\n",
    "* Pw   = V * I * cos(θ), potência ativa [P] unidade em Watts\n",
    "* Pvar = V * I * sin(θ), potência reativa [Q]\n",
    "\n",
    "Trabalho elétrico => conversão de energia elétrica em energia térmica (efeito joule), mecânica, rotação, refrigeração, sonora, luminosa\n",
    "\n",
    "A potência ativa [P] é a parte da potência que gera trabalho\n",
    "\n",
    "A potência reativa [Q] está relacionada ao armazenamento de energia dos capacitores (carga elétrica) e dos indultores (campos eletromagnéticos). Ou seja, está sempre atrelada a geração de campo eletromagnético nos indultores e armazenamento de energia em carga elétrica nos capacitores"
   ]
  },
  {
   "cell_type": "markdown",
   "id": "a021475b",
   "metadata": {},
   "source": [
    "### Potência aparente (S)\n",
    "https://www.youtube.com/watch?v=QcygucZdwEQ&list=PL1IAWKHSkvMGbkq-CkhIhtbgBpI5nQ8fo&index=9"
   ]
  },
  {
   "cell_type": "code",
   "execution_count": 170,
   "id": "db8e996a",
   "metadata": {},
   "outputs": [
    {
     "data": {
      "text/plain": [
       "(1.016, 100)"
      ]
     },
     "execution_count": 170,
     "metadata": {},
     "output_type": "execute_result"
    }
   ],
   "source": [
    "CorrenteTotal, vca"
   ]
  },
  {
   "cell_type": "code",
   "execution_count": 187,
   "id": "82a8b948",
   "metadata": {},
   "outputs": [
    {
     "name": "stdout",
     "output_type": "stream",
     "text": [
      "A potência total aparente do circuito é 101.552 VA com angulo de defasagem de 39.770 graus\n"
     ]
    }
   ],
   "source": [
    "# Potência total aparente (S) e angulo\n",
    "S_total =  vca * CorrenteTotal\n",
    "S_angulo = AnguloCorrenteTotal + 0\n",
    "\n",
    "print(\"A potência total aparente do circuito é {0:0.3f} VA com angulo de defasagem de {1:0.3f} graus\".format(S_total, S_angulo))"
   ]
  },
  {
   "cell_type": "code",
   "execution_count": 188,
   "id": "3ebbf9ff",
   "metadata": {},
   "outputs": [],
   "source": [
    "def potenciaAparente(param, ddp):\n",
    "    for p in param:\n",
    "        p['S'] = ddp * p['I']\n",
    "        p['S_angulo'] = 0 + p['anguloI']"
   ]
  },
  {
   "cell_type": "code",
   "execution_count": 189,
   "id": "52b875e4",
   "metadata": {},
   "outputs": [],
   "source": [
    "potenciaAparente(lista_parametros, vca)"
   ]
  },
  {
   "cell_type": "markdown",
   "id": "e11ed415",
   "metadata": {},
   "source": [
    "### Potências Ativa (P), Reativa (Q) e Fator de Potência (FP)"
   ]
  },
  {
   "cell_type": "code",
   "execution_count": 198,
   "id": "a7bfeef9",
   "metadata": {},
   "outputs": [],
   "source": [
    "def potenciaAtivaReativa(param):\n",
    "    for p in param:\n",
    "        p['P'] = p['S'] * math.cos(p['S_angulo']*math.pi/180)\n",
    "        p['Q'] = p['S'] * math.sin(p['S_angulo']*math.pi/180)\n",
    "        p['FP'] = p['P'] / p['S']"
   ]
  },
  {
   "cell_type": "code",
   "execution_count": 199,
   "id": "f1f3bccb",
   "metadata": {},
   "outputs": [],
   "source": [
    "potenciaAtivaReativa(lista_parametros)"
   ]
  },
  {
   "cell_type": "markdown",
   "id": "abc3c185",
   "metadata": {},
   "source": [
    "### Resultados"
   ]
  },
  {
   "cell_type": "code",
   "execution_count": 200,
   "id": "14f19b34",
   "metadata": {},
   "outputs": [
    {
     "data": {
      "text/plain": [
       "[{'R': 100,\n",
       "  'L': 0.001,\n",
       "  'C': 0.000,\n",
       "  'XL': 0.377,\n",
       "  'XC': 265.258,\n",
       "  'Z': 283.129,\n",
       "  'Xeq': -264.881,\n",
       "  'anguloDefasagem': -69.317,\n",
       "  'I': 0.353,\n",
       "  'anguloI': 69.317,\n",
       "  'S': 35.320,\n",
       "  'S_angulo': 69.317,\n",
       "  'P': 12.475,\n",
       "  'Q': 33.043,\n",
       "  'FP': 0.353},\n",
       " {'R': 200,\n",
       "  'L': 0.002,\n",
       "  'C': 0.000,\n",
       "  'XL': 0.754,\n",
       "  'XC': 132.629,\n",
       "  'Z': 239.564,\n",
       "  'Xeq': -131.875,\n",
       "  'anguloDefasagem': -33.400,\n",
       "  'I': 0.417,\n",
       "  'anguloI': 33.400,\n",
       "  'S': 41.742,\n",
       "  'S_angulo': 33.400,\n",
       "  'P': 34.849,\n",
       "  'Q': 22.978,\n",
       "  'FP': 0.835},\n",
       " {'R': 300,\n",
       "  'L': 0.003,\n",
       "  'C': 0.000,\n",
       "  'XL': 1.131,\n",
       "  'XC': 88.419,\n",
       "  'Z': 312.441,\n",
       "  'Xeq': -87.288,\n",
       "  'anguloDefasagem': -16.223,\n",
       "  'I': 0.320,\n",
       "  'anguloI': 16.223,\n",
       "  'S': 32.006,\n",
       "  'S_angulo': 16.223,\n",
       "  'P': 30.732,\n",
       "  'Q': 8.942,\n",
       "  'FP': 0.960}]"
      ]
     },
     "execution_count": 200,
     "metadata": {},
     "output_type": "execute_result"
    }
   ],
   "source": [
    "lista_parametros"
   ]
  },
  {
   "cell_type": "code",
   "execution_count": 202,
   "id": "04f50872",
   "metadata": {},
   "outputs": [
    {
     "data": {
      "text/plain": [
       "35.319"
      ]
     },
     "execution_count": 202,
     "metadata": {},
     "output_type": "execute_result"
    }
   ],
   "source": [
    "math.sqrt(12.475**2 + 33.043**2)"
   ]
  },
  {
   "cell_type": "markdown",
   "id": "5aa4bbbf",
   "metadata": {},
   "source": [
    "### De volta ao exercicio 1"
   ]
  },
  {
   "cell_type": "code",
   "execution_count": 207,
   "id": "2f04d633",
   "metadata": {},
   "outputs": [
    {
     "data": {
      "text/plain": [
       "(4.263, 200)"
      ]
     },
     "execution_count": 207,
     "metadata": {},
     "output_type": "execute_result"
    }
   ],
   "source": [
    "I_Total_Exercicio, vca_exercicio"
   ]
  },
  {
   "cell_type": "code",
   "execution_count": 209,
   "id": "3f036be4",
   "metadata": {},
   "outputs": [
    {
     "name": "stdout",
     "output_type": "stream",
     "text": [
      "A potência total aparente do circuito é 852.635 VA com angulo de defasagem de 6.943 graus\n"
     ]
    }
   ],
   "source": [
    "# Potência total aparente (S) e angulo\n",
    "Exercicio_S_total =  vca_exercicio * I_Total_Exercicio\n",
    "Exercicio_S_angulo = AnguloCorrenteTotal_Exercicio + 0\n",
    "\n",
    "print(\"A potência total aparente do circuito é {0:0.3f} VA com angulo de defasagem de {1:0.3f} graus\".format(Exercicio_S_total, Exercicio_S_angulo))"
   ]
  },
  {
   "cell_type": "code",
   "execution_count": 210,
   "id": "16bc7910",
   "metadata": {},
   "outputs": [],
   "source": [
    "potenciaAparente(lista_exercicio1, vca_exercicio)"
   ]
  },
  {
   "cell_type": "code",
   "execution_count": 212,
   "id": "cea80231",
   "metadata": {},
   "outputs": [],
   "source": [
    "potenciaAtivaReativa(lista_exercicio1)"
   ]
  },
  {
   "cell_type": "code",
   "execution_count": 213,
   "id": "16724fa6",
   "metadata": {},
   "outputs": [
    {
     "data": {
      "text/plain": [
       "[{'R': 100,\n",
       "  'L': 0.010,\n",
       "  'C': 0.000,\n",
       "  'XL': 3.770,\n",
       "  'XC': 26.526,\n",
       "  'Z': 102.556,\n",
       "  'Xeq': -22.756,\n",
       "  'anguloDefasagem': -12.820,\n",
       "  'I': 1.950,\n",
       "  'anguloI': 12.820,\n",
       "  'S': 390.029,\n",
       "  'S_angulo': 12.820,\n",
       "  'P': 380.307,\n",
       "  'Q': 86.542,\n",
       "  'FP': 0.975},\n",
       " {'R': 150,\n",
       "  'L': 0.020,\n",
       "  'C': 0.000,\n",
       "  'XL': 7.540,\n",
       "  'XC': 13.263,\n",
       "  'Z': 150.109,\n",
       "  'Xeq': -5.723,\n",
       "  'anguloDefasagem': -2.185,\n",
       "  'I': 1.332,\n",
       "  'anguloI': 2.185,\n",
       "  'S': 266.473,\n",
       "  'S_angulo': 2.185,\n",
       "  'P': 266.279,\n",
       "  'Q': 10.160,\n",
       "  'FP': 0.999},\n",
       " {'R': 200,\n",
       "  'L': 0.030,\n",
       "  'C': 0.000,\n",
       "  'XL': 11.310,\n",
       "  'XC': 17.684,\n",
       "  'Z': 200.102,\n",
       "  'Xeq': -6.374,\n",
       "  'anguloDefasagem': -1.825,\n",
       "  'I': 0.999,\n",
       "  'anguloI': 1.825,\n",
       "  'S': 199.899,\n",
       "  'S_angulo': 1.825,\n",
       "  'P': 199.797,\n",
       "  'Q': 6.368,\n",
       "  'FP': 0.999}]"
      ]
     },
     "execution_count": 213,
     "metadata": {},
     "output_type": "execute_result"
    }
   ],
   "source": [
    "lista_exercicio1"
   ]
  },
  {
   "cell_type": "code",
   "execution_count": null,
   "id": "df7aa9d7",
   "metadata": {},
   "outputs": [],
   "source": []
  }
 ],
 "metadata": {
  "kernelspec": {
   "display_name": "Python 3 (ipykernel)",
   "language": "python",
   "name": "python3"
  },
  "language_info": {
   "codemirror_mode": {
    "name": "ipython",
    "version": 3
   },
   "file_extension": ".py",
   "mimetype": "text/x-python",
   "name": "python",
   "nbconvert_exporter": "python",
   "pygments_lexer": "ipython3",
   "version": "3.9.7"
  }
 },
 "nbformat": 4,
 "nbformat_minor": 5
}
