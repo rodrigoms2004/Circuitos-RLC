{
 "cells": [
  {
   "cell_type": "markdown",
   "id": "0184bf73",
   "metadata": {},
   "source": [
    "# Circuitos RLC \n",
    "\n",
    "https://www.youtube.com/watch?v=VkEnKcwp_N0&list=PL1IAWKHSkvMGbkq-CkhIhtbgBpI5nQ8fo"
   ]
  },
  {
   "cell_type": "markdown",
   "id": "cbb5b721",
   "metadata": {},
   "source": [
    "## Bibliotecas e demais parâmetros"
   ]
  },
  {
   "cell_type": "code",
   "execution_count": 1,
   "id": "0217e153",
   "metadata": {},
   "outputs": [
    {
     "data": {
      "text/plain": [
       "'%.3f'"
      ]
     },
     "execution_count": 1,
     "metadata": {},
     "output_type": "execute_result"
    }
   ],
   "source": [
    "import math\n",
    "# define três casas decimais de precisão\n",
    "%precision %.3f"
   ]
  },
  {
   "cell_type": "markdown",
   "id": "3d6489f0",
   "metadata": {},
   "source": [
    "## Como calcular Impedância\n",
    "https://www.youtube.com/watch?v=pDUCh0QlJag&list=PL1IAWKHSkvMGbkq-CkhIhtbgBpI5nQ8fo&index=2"
   ]
  },
  {
   "cell_type": "markdown",
   "id": "27e11813",
   "metadata": {},
   "source": [
    "* Z1, Z2 ,Z3 impedâncias\n",
    "* XL reatância indutiva\n",
    "* XC reatância capacitiva"
   ]
  },
  {
   "cell_type": "markdown",
   "id": "c520b968",
   "metadata": {},
   "source": [
    "### Variáveis do circuito"
   ]
  },
  {
   "cell_type": "code",
   "execution_count": 2,
   "id": "a320ea3f",
   "metadata": {},
   "outputs": [],
   "source": [
    "vca = 100 # Volts em 0 graus\n",
    "f = 60 # hertz\n",
    "\n",
    "parametros_z1 = {\n",
    "    \"R\" : 100,       # ohms\n",
    "    \"L\" : 1*10**-3,  # mH\n",
    "    \"C\" : 10*10**-6,  # microF\n",
    "}\n",
    "\n",
    "parametros_z2 = {\n",
    "    \"R\" : 200,       # ohms\n",
    "    \"L\" : 2*10**-3,  # mH\n",
    "    \"C\" : 20*10**-6,  # microF\n",
    "}\n",
    "\n",
    "parametros_z3 = {\n",
    "    \"R\" : 300,       # ohms\n",
    "    \"L\" : 3*10**-3,  # mH\n",
    "    \"C\" : 30*10**-6,  # microF\n",
    "}\n",
    "\n",
    "lista_parametros = []"
   ]
  },
  {
   "cell_type": "code",
   "execution_count": 3,
   "id": "fd1b8293",
   "metadata": {},
   "outputs": [
    {
     "data": {
      "text/plain": [
       "[{'R': 100, 'L': 0.001, 'C': 0.000},\n",
       " {'R': 200, 'L': 0.002, 'C': 0.000},\n",
       " {'R': 300, 'L': 0.003, 'C': 0.000}]"
      ]
     },
     "execution_count": 3,
     "metadata": {},
     "output_type": "execute_result"
    }
   ],
   "source": [
    "lista_parametros.append(parametros_z1)\n",
    "lista_parametros.append(parametros_z2)\n",
    "lista_parametros.append(parametros_z3)\n",
    "\n",
    "lista_parametros"
   ]
  },
  {
   "cell_type": "markdown",
   "id": "c1a8c025",
   "metadata": {},
   "source": [
    "### Encontrando as reatâncias "
   ]
  },
  {
   "cell_type": "code",
   "execution_count": 4,
   "id": "8df17a45",
   "metadata": {},
   "outputs": [],
   "source": [
    "def reatanciaIndutiva(param, freq):\n",
    "    return 2*math.pi*freq*param[\"L\"]"
   ]
  },
  {
   "cell_type": "code",
   "execution_count": 5,
   "id": "f8936234",
   "metadata": {},
   "outputs": [],
   "source": [
    "def reatanciaCapacitiva(param, freq):\n",
    "    return 1/(2*math.pi*freq*param[\"C\"])"
   ]
  },
  {
   "cell_type": "code",
   "execution_count": 6,
   "id": "87bbefd3",
   "metadata": {},
   "outputs": [],
   "source": [
    "for p in lista_parametros:\n",
    "    p[\"XL\"] = reatanciaIndutiva(p, f)\n",
    "    p[\"XC\"] = reatanciaCapacitiva(p, f)"
   ]
  },
  {
   "cell_type": "code",
   "execution_count": 7,
   "id": "9f1fd17c",
   "metadata": {},
   "outputs": [
    {
     "data": {
      "text/plain": [
       "[{'R': 100, 'L': 0.001, 'C': 0.000, 'XL': 0.377, 'XC': 265.258},\n",
       " {'R': 200, 'L': 0.002, 'C': 0.000, 'XL': 0.754, 'XC': 132.629},\n",
       " {'R': 300, 'L': 0.003, 'C': 0.000, 'XL': 1.131, 'XC': 88.419}]"
      ]
     },
     "execution_count": 7,
     "metadata": {},
     "output_type": "execute_result"
    }
   ],
   "source": [
    "lista_parametros"
   ]
  },
  {
   "cell_type": "markdown",
   "id": "4371fa58",
   "metadata": {},
   "source": [
    "### Calculando as impedâncias"
   ]
  },
  {
   "cell_type": "code",
   "execution_count": 8,
   "id": "a2bcf974",
   "metadata": {},
   "outputs": [],
   "source": [
    "def impedanciaZ(param):\n",
    "    if param[\"XL\"] > param[\"XC\"]:\n",
    "        xeq = param[\"XL\"] - param[\"XC\"]\n",
    "    else:\n",
    "        xeq = (param[\"XC\"] - param[\"XL\"]) * -1\n",
    "    \n",
    "    return math.sqrt(xeq**2 + param[\"R\"]**2), xeq\n"
   ]
  },
  {
   "cell_type": "code",
   "execution_count": 9,
   "id": "47f7081f",
   "metadata": {},
   "outputs": [],
   "source": [
    "for p in lista_parametros:\n",
    "    p[\"Z\"], p[\"Xeq\"] = impedanciaZ(p)"
   ]
  },
  {
   "cell_type": "code",
   "execution_count": 10,
   "id": "f5d41dfe",
   "metadata": {},
   "outputs": [
    {
     "data": {
      "text/plain": [
       "[{'R': 100,\n",
       "  'L': 0.001,\n",
       "  'C': 0.000,\n",
       "  'XL': 0.377,\n",
       "  'XC': 265.258,\n",
       "  'Z': 283.129,\n",
       "  'Xeq': -264.881},\n",
       " {'R': 200,\n",
       "  'L': 0.002,\n",
       "  'C': 0.000,\n",
       "  'XL': 0.754,\n",
       "  'XC': 132.629,\n",
       "  'Z': 239.564,\n",
       "  'Xeq': -131.875},\n",
       " {'R': 300,\n",
       "  'L': 0.003,\n",
       "  'C': 0.000,\n",
       "  'XL': 1.131,\n",
       "  'XC': 88.419,\n",
       "  'Z': 312.441,\n",
       "  'Xeq': -87.288}]"
      ]
     },
     "execution_count": 10,
     "metadata": {},
     "output_type": "execute_result"
    }
   ],
   "source": [
    "lista_parametros"
   ]
  },
  {
   "cell_type": "markdown",
   "id": "fa0c22fc",
   "metadata": {},
   "source": [
    "### Ângulo de defasagem \n",
    "https://www.youtube.com/watch?v=Ba3wPJ4PgEI&list=PL1IAWKHSkvMGbkq-CkhIhtbgBpI5nQ8fo&index=3"
   ]
  },
  {
   "cell_type": "code",
   "execution_count": 11,
   "id": "5b63d2f7",
   "metadata": {},
   "outputs": [],
   "source": [
    "def angulo(param):\n",
    "    return math.atan(param[\"Xeq\"]/param[\"R\"]) * 180/math.pi"
   ]
  },
  {
   "cell_type": "code",
   "execution_count": 12,
   "id": "7ea3d800",
   "metadata": {},
   "outputs": [],
   "source": [
    "for p in lista_parametros:\n",
    "    p[\"anguloDefasagem\"] = angulo(p)"
   ]
  },
  {
   "cell_type": "code",
   "execution_count": 13,
   "id": "d550fec3",
   "metadata": {},
   "outputs": [
    {
     "data": {
      "text/plain": [
       "[{'R': 100,\n",
       "  'L': 0.001,\n",
       "  'C': 0.000,\n",
       "  'XL': 0.377,\n",
       "  'XC': 265.258,\n",
       "  'Z': 283.129,\n",
       "  'Xeq': -264.881,\n",
       "  'anguloDefasagem': -69.317},\n",
       " {'R': 200,\n",
       "  'L': 0.002,\n",
       "  'C': 0.000,\n",
       "  'XL': 0.754,\n",
       "  'XC': 132.629,\n",
       "  'Z': 239.564,\n",
       "  'Xeq': -131.875,\n",
       "  'anguloDefasagem': -33.400},\n",
       " {'R': 300,\n",
       "  'L': 0.003,\n",
       "  'C': 0.000,\n",
       "  'XL': 1.131,\n",
       "  'XC': 88.419,\n",
       "  'Z': 312.441,\n",
       "  'Xeq': -87.288,\n",
       "  'anguloDefasagem': -16.223}]"
      ]
     },
     "execution_count": 13,
     "metadata": {},
     "output_type": "execute_result"
    }
   ],
   "source": [
    "lista_parametros"
   ]
  },
  {
   "cell_type": "markdown",
   "id": "7e91cd27",
   "metadata": {},
   "source": [
    "### Exercício1"
   ]
  },
  {
   "cell_type": "code",
   "execution_count": 14,
   "id": "4afd88a0",
   "metadata": {},
   "outputs": [],
   "source": [
    "vca = 200 # Volts em 0 graus\n",
    "f = 60 # hertz\n",
    "\n",
    "parametros_z1 = {\n",
    "    \"R\" : 100,       # ohms\n",
    "    \"L\" : 10*10**-3,  # mH\n",
    "    \"C\" : 100*10**-6,  # microF\n",
    "}\n",
    "\n",
    "parametros_z2 = {\n",
    "    \"R\" : 150,       # ohms\n",
    "    \"L\" : 20*10**-3,  # mH\n",
    "    \"C\" : 200*10**-6,  # microF\n",
    "}\n",
    "\n",
    "parametros_z3 = {\n",
    "    \"R\" : 200,       # ohms\n",
    "    \"L\" : 30*10**-3,  # mH\n",
    "    \"C\" : 150*10**-6,  # microF\n",
    "}\n",
    "\n",
    "lista_exercicio1 = []"
   ]
  },
  {
   "cell_type": "code",
   "execution_count": 15,
   "id": "320f2da4",
   "metadata": {},
   "outputs": [
    {
     "data": {
      "text/plain": [
       "[{'R': 100, 'L': 0.010, 'C': 0.000},\n",
       " {'R': 150, 'L': 0.020, 'C': 0.000},\n",
       " {'R': 200, 'L': 0.030, 'C': 0.000}]"
      ]
     },
     "execution_count": 15,
     "metadata": {},
     "output_type": "execute_result"
    }
   ],
   "source": [
    "lista_exercicio1.append(parametros_z1)\n",
    "lista_exercicio1.append(parametros_z2)\n",
    "lista_exercicio1.append(parametros_z3)\n",
    "lista_exercicio1"
   ]
  },
  {
   "cell_type": "code",
   "execution_count": 16,
   "id": "d5809368",
   "metadata": {},
   "outputs": [],
   "source": [
    "for p in lista_exercicio1:\n",
    "    p[\"XL\"] = reatanciaIndutiva(p, f)\n",
    "    p[\"XC\"] = reatanciaCapacitiva(p, f)\n",
    "    p[\"Z\"], p[\"Xeq\"] = impedanciaZ(p)\n",
    "    p[\"anguloDefasagem\"] = angulo(p)"
   ]
  },
  {
   "cell_type": "code",
   "execution_count": 17,
   "id": "78fdf12c",
   "metadata": {},
   "outputs": [
    {
     "data": {
      "text/plain": [
       "[{'R': 100,\n",
       "  'L': 0.010,\n",
       "  'C': 0.000,\n",
       "  'XL': 3.770,\n",
       "  'XC': 26.526,\n",
       "  'Z': 102.556,\n",
       "  'Xeq': -22.756,\n",
       "  'anguloDefasagem': -12.820},\n",
       " {'R': 150,\n",
       "  'L': 0.020,\n",
       "  'C': 0.000,\n",
       "  'XL': 7.540,\n",
       "  'XC': 13.263,\n",
       "  'Z': 150.109,\n",
       "  'Xeq': -5.723,\n",
       "  'anguloDefasagem': -2.185},\n",
       " {'R': 200,\n",
       "  'L': 0.030,\n",
       "  'C': 0.000,\n",
       "  'XL': 11.310,\n",
       "  'XC': 17.684,\n",
       "  'Z': 200.102,\n",
       "  'Xeq': -6.374,\n",
       "  'anguloDefasagem': -1.825}]"
      ]
     },
     "execution_count": 17,
     "metadata": {},
     "output_type": "execute_result"
    }
   ],
   "source": [
    "lista_exercicio1"
   ]
  },
  {
   "cell_type": "markdown",
   "id": "1128b1cc",
   "metadata": {},
   "source": [
    "## Polar em retangular \n",
    "**Resistências em série com diferentes ângulos de defasagem**\n",
    "\n",
    "https://www.youtube.com/watch?v=quTc1YXdfqs&list=PL1IAWKHSkvMGbkq-CkhIhtbgBpI5nQ8fo&index=4"
   ]
  },
  {
   "cell_type": "code",
   "execution_count": 18,
   "id": "229758e1",
   "metadata": {},
   "outputs": [],
   "source": [
    "def componenteReal(angulo, resistencia):\n",
    "    return math.cos(angulo*math.pi/180)*resistencia\n",
    "    \n",
    "def componenteImaginario(angulo, resistencia):\n",
    "    return math.sin(angulo*math.pi/180)*resistencia"
   ]
  },
  {
   "cell_type": "code",
   "execution_count": 19,
   "id": "6e452492",
   "metadata": {},
   "outputs": [],
   "source": [
    "Zx = componenteReal(60, 100) + componenteReal(-30, 50) + componenteReal(0, 200)"
   ]
  },
  {
   "cell_type": "code",
   "execution_count": 20,
   "id": "50b44873",
   "metadata": {},
   "outputs": [],
   "source": [
    "Zy = componenteImaginario(60, 100) + componenteImaginario(-30, 50) + componenteImaginario(0, 200)"
   ]
  },
  {
   "cell_type": "code",
   "execution_count": 21,
   "id": "c6b53b5d",
   "metadata": {},
   "outputs": [
    {
     "data": {
      "text/plain": [
       "(293.301, 61.603)"
      ]
     },
     "execution_count": 21,
     "metadata": {},
     "output_type": "execute_result"
    }
   ],
   "source": [
    "Zx, Zy"
   ]
  },
  {
   "cell_type": "markdown",
   "id": "2a5b6677",
   "metadata": {},
   "source": [
    "## Retangular em polar\n",
    "https://www.youtube.com/watch?v=3m8z7Z1sp04&list=PL1IAWKHSkvMGbkq-CkhIhtbgBpI5nQ8fo&index=5"
   ]
  },
  {
   "cell_type": "code",
   "execution_count": 22,
   "id": "3f090864",
   "metadata": {},
   "outputs": [],
   "source": [
    "def resultante(componenteReal, componenteImaginario):\n",
    "    return math.sqrt(componenteImaginario**2 + componenteReal**2) \n",
    "\n",
    "def angulo(componenteReal, componenteImaginario):\n",
    "    return math.atan(componenteImaginario/componenteReal) * 180 / math.pi\n",
    "\n",
    "def impedanciaEquivalente(componenteReal, componenteImaginario):\n",
    "    imp = resultante(componenteReal, componenteImaginario)\n",
    "    ang = angulo(componenteReal, componenteImaginario)\n",
    "    return (imp, ang)"
   ]
  },
  {
   "cell_type": "code",
   "execution_count": 23,
   "id": "1845fdf1",
   "metadata": {},
   "outputs": [
    {
     "data": {
      "text/plain": [
       "(99.998, 59.999)"
      ]
     },
     "execution_count": 23,
     "metadata": {},
     "output_type": "execute_result"
    }
   ],
   "source": [
    "impedanciaEquivalente(50, 86.6)"
   ]
  },
  {
   "cell_type": "code",
   "execution_count": 24,
   "id": "25d501c5",
   "metadata": {},
   "outputs": [
    {
     "data": {
      "text/plain": [
       "(49.999, -30.001)"
      ]
     },
     "execution_count": 24,
     "metadata": {},
     "output_type": "execute_result"
    }
   ],
   "source": [
    "impedanciaEquivalente(43.3, -25)"
   ]
  },
  {
   "cell_type": "code",
   "execution_count": 25,
   "id": "1c738a47",
   "metadata": {},
   "outputs": [
    {
     "data": {
      "text/plain": [
       "(200.000, 0.000)"
      ]
     },
     "execution_count": 25,
     "metadata": {},
     "output_type": "execute_result"
    }
   ],
   "source": [
    "impedanciaEquivalente(200, 0)"
   ]
  },
  {
   "cell_type": "code",
   "execution_count": 26,
   "id": "5e74ecb4",
   "metadata": {},
   "outputs": [
    {
     "data": {
      "text/plain": [
       "(299.701, 11.862)"
      ]
     },
     "execution_count": 26,
     "metadata": {},
     "output_type": "execute_result"
    }
   ],
   "source": [
    "Zeq = impedanciaEquivalente(Zx, Zy)\n",
    "Zeq"
   ]
  },
  {
   "cell_type": "markdown",
   "id": "ead50464",
   "metadata": {},
   "source": [
    "### Calculo da corrente\n",
    "\n",
    "I = VCA / Impedância total"
   ]
  },
  {
   "cell_type": "code",
   "execution_count": 27,
   "id": "0d289f8f",
   "metadata": {},
   "outputs": [
    {
     "data": {
      "text/plain": [
       "0.334"
      ]
     },
     "execution_count": 27,
     "metadata": {},
     "output_type": "execute_result"
    }
   ],
   "source": [
    "vca = 100 # em 0 graus\n",
    "I = vca / Zeq[0]\n",
    "I"
   ]
  },
  {
   "cell_type": "markdown",
   "id": "d2e6a564",
   "metadata": {},
   "source": [
    "### Impedância total do circuito\n",
    "\n",
    "Levando em consideração os angulos de defasagem\n",
    "\n",
    "https://www.youtube.com/watch?v=VgVplBPdPXA&list=PL1IAWKHSkvMGbkq-CkhIhtbgBpI5nQ8fo&index=6"
   ]
  },
  {
   "cell_type": "code",
   "execution_count": 28,
   "id": "a1e33cc6",
   "metadata": {},
   "outputs": [
    {
     "data": {
      "text/plain": [
       "[{'R': 100,\n",
       "  'L': 0.001,\n",
       "  'C': 0.000,\n",
       "  'XL': 0.377,\n",
       "  'XC': 265.258,\n",
       "  'Z': 283.129,\n",
       "  'Xeq': -264.881,\n",
       "  'anguloDefasagem': -69.317},\n",
       " {'R': 200,\n",
       "  'L': 0.002,\n",
       "  'C': 0.000,\n",
       "  'XL': 0.754,\n",
       "  'XC': 132.629,\n",
       "  'Z': 239.564,\n",
       "  'Xeq': -131.875,\n",
       "  'anguloDefasagem': -33.400},\n",
       " {'R': 300,\n",
       "  'L': 0.003,\n",
       "  'C': 0.000,\n",
       "  'XL': 1.131,\n",
       "  'XC': 88.419,\n",
       "  'Z': 312.441,\n",
       "  'Xeq': -87.288,\n",
       "  'anguloDefasagem': -16.223}]"
      ]
     },
     "execution_count": 28,
     "metadata": {},
     "output_type": "execute_result"
    }
   ],
   "source": [
    "lista_parametros"
   ]
  },
  {
   "cell_type": "code",
   "execution_count": 29,
   "id": "bf509362",
   "metadata": {},
   "outputs": [],
   "source": [
    "def impedanciaTotal(list_p):\n",
    "    Zx = 0.0\n",
    "    Zy = 0.0\n",
    "    for p in list_p:\n",
    "        angulo = 0 - p[\"anguloDefasagem\"]\n",
    "        Zx += (1/p[\"Z\"])*math.cos(angulo*math.pi/180)\n",
    "        Zy += (1/p[\"Z\"])*math.sin(angulo*math.pi/180)\n",
    "    Zeq = 1/math.sqrt(Zx**2 + Zy**2)\n",
    "    anguloZeq = 0 - math.atan(Zy/Zx)*180/math.pi\n",
    "    return Zeq, anguloZeq"
   ]
  },
  {
   "cell_type": "code",
   "execution_count": 40,
   "id": "370aa9e7",
   "metadata": {},
   "outputs": [
    {
     "name": "stdout",
     "output_type": "stream",
     "text": [
      "A impedâncial total do circuito é 98.472 com angulo de defasagem de -39.770 graus\n"
     ]
    }
   ],
   "source": [
    "impTotal = impedanciaTotal(lista_parametros)\n",
    "\n",
    "print(\"A impedâncial total do circuito é {0:0.3f} com angulo de defasagem de {1:0.3f} graus\".format(impTotal[0], impTotal[1]))"
   ]
  },
  {
   "cell_type": "markdown",
   "id": "47e8031e",
   "metadata": {},
   "source": [
    "### Voltando ao exercicio1"
   ]
  },
  {
   "cell_type": "code",
   "execution_count": 32,
   "id": "283ae9bd",
   "metadata": {},
   "outputs": [
    {
     "data": {
      "text/plain": [
       "[{'R': 100,\n",
       "  'L': 0.010,\n",
       "  'C': 0.000,\n",
       "  'XL': 3.770,\n",
       "  'XC': 26.526,\n",
       "  'Z': 102.556,\n",
       "  'Xeq': -22.756,\n",
       "  'anguloDefasagem': -12.820},\n",
       " {'R': 150,\n",
       "  'L': 0.020,\n",
       "  'C': 0.000,\n",
       "  'XL': 7.540,\n",
       "  'XC': 13.263,\n",
       "  'Z': 150.109,\n",
       "  'Xeq': -5.723,\n",
       "  'anguloDefasagem': -2.185},\n",
       " {'R': 200,\n",
       "  'L': 0.030,\n",
       "  'C': 0.000,\n",
       "  'XL': 11.310,\n",
       "  'XC': 17.684,\n",
       "  'Z': 200.102,\n",
       "  'Xeq': -6.374,\n",
       "  'anguloDefasagem': -1.825}]"
      ]
     },
     "execution_count": 32,
     "metadata": {},
     "output_type": "execute_result"
    }
   ],
   "source": [
    "lista_exercicio1"
   ]
  },
  {
   "cell_type": "code",
   "execution_count": 41,
   "id": "4bd86cdc",
   "metadata": {},
   "outputs": [
    {
     "name": "stdout",
     "output_type": "stream",
     "text": [
      "A impedâncial total do circuito é 46.913 com angulo de defasagem de -6.943 graus\n"
     ]
    }
   ],
   "source": [
    "impTotalExercicio = impedanciaTotal(lista_exercicio1)\n",
    "\n",
    "print(\"A impedâncial total do circuito é {0:0.3f} com angulo de defasagem de {1:0.3f} graus\".format(impTotalExercicio[0], impTotalExercicio[1]))"
   ]
  },
  {
   "cell_type": "code",
   "execution_count": null,
   "id": "85651d01",
   "metadata": {},
   "outputs": [],
   "source": []
  }
 ],
 "metadata": {
  "kernelspec": {
   "display_name": "Python 3 (ipykernel)",
   "language": "python",
   "name": "python3"
  },
  "language_info": {
   "codemirror_mode": {
    "name": "ipython",
    "version": 3
   },
   "file_extension": ".py",
   "mimetype": "text/x-python",
   "name": "python",
   "nbconvert_exporter": "python",
   "pygments_lexer": "ipython3",
   "version": "3.9.7"
  }
 },
 "nbformat": 4,
 "nbformat_minor": 5
}
